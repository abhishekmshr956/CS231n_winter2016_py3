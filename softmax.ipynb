{
 "cells": [
  {
   "cell_type": "code",
   "execution_count": 25,
   "metadata": {},
   "outputs": [
    {
     "name": "stdout",
     "output_type": "stream",
     "text": [
      "The autoreload extension is already loaded. To reload it, use:\n",
      "  %reload_ext autoreload\n"
     ]
    }
   ],
   "source": [
    "import random\n",
    "import numpy as np\n",
    "from data_utils import load_CIFAR10\n",
    "import matplotlib.pyplot as plt\n",
    "%matplotlib inline\n",
    "\n",
    "plt.rcParams['figure.figsize'] = (10.0, 8.0) # set default size of plots\n",
    "plt.rcParams['image.interpolation'] = 'nearest'\n",
    "plt.rcParams['image.cmap'] = 'gray'\n",
    "\n",
    "# for auto-reloading extenrnal modules\n",
    "# see http://stackoverflow.com/questions/1907993/autoreload-of-modules-in-ipython\n",
    "%load_ext autoreload\n",
    "%autoreload 2"
   ]
  },
  {
   "cell_type": "code",
   "execution_count": 26,
   "metadata": {},
   "outputs": [
    {
     "name": "stdout",
     "output_type": "stream",
     "text": [
      "Train data shape: (49000, 3073)\n",
      "Train labels shape: (49000,)\n",
      "Validation data shape: (1000, 3073)\n",
      "Validation labels shape: (1000,)\n",
      "Test data shape: (1000, 3073)\n",
      "Test labels shape: (1000,)\n",
      "dev data shape: (500, 3073)\n",
      "dev labels shape: (500,)\n"
     ]
    }
   ],
   "source": [
    "def get_CIFAR10_data(num_training=49000, num_validation=1000, num_test=1000, num_dev=500):\n",
    "  \"\"\"\n",
    "  Load the CIFAR-10 dataset from disk and perform preprocessing to prepare\n",
    "  it for the linear classifier. These are the same steps as we used for the\n",
    "  SVM, but condensed to a single function.  \n",
    "  \"\"\"\n",
    "  # Load the raw CIFAR-10 data\n",
    "  cifar10_dir = 'datasets/cifar-10-batches-py'\n",
    "  X_train, y_train, X_test, y_test = load_CIFAR10(cifar10_dir)\n",
    "  \n",
    "  # subsample the data\n",
    "  mask = range(num_training, num_training + num_validation)\n",
    "  X_val = X_train[mask]\n",
    "  y_val = y_train[mask]\n",
    "  mask = range(num_training)\n",
    "  X_train = X_train[mask]\n",
    "  y_train = y_train[mask]\n",
    "  mask = range(num_test)\n",
    "  X_test = X_test[mask]\n",
    "  y_test = y_test[mask]\n",
    "  mask = np.random.choice(num_training, num_dev, replace=False)\n",
    "  X_dev = X_train[mask]\n",
    "  y_dev = y_train[mask]\n",
    "  \n",
    "  # Preprocessing: reshape the image data into rows\n",
    "  X_train = np.reshape(X_train, (X_train.shape[0], -1))\n",
    "  X_val = np.reshape(X_val, (X_val.shape[0], -1))\n",
    "  X_test = np.reshape(X_test, (X_test.shape[0], -1))\n",
    "  X_dev = np.reshape(X_dev, (X_dev.shape[0], -1))\n",
    "  \n",
    "  # Normalize the data: subtract the mean image\n",
    "  mean_image = np.mean(X_train, axis = 0)\n",
    "  X_train -= mean_image\n",
    "  X_val -= mean_image\n",
    "  X_test -= mean_image\n",
    "  X_dev -= mean_image\n",
    "  \n",
    "  # add bias dimension and transform into columns\n",
    "  X_train = np.hstack([X_train, np.ones((X_train.shape[0], 1))])\n",
    "  X_val = np.hstack([X_val, np.ones((X_val.shape[0], 1))])\n",
    "  X_test = np.hstack([X_test, np.ones((X_test.shape[0], 1))])\n",
    "  X_dev = np.hstack([X_dev, np.ones((X_dev.shape[0], 1))])\n",
    "  \n",
    "  return X_train, y_train, X_val, y_val, X_test, y_test, X_dev, y_dev\n",
    "\n",
    "\n",
    "# Invoke the above function to get our data.\n",
    "X_train, y_train, X_val, y_val, X_test, y_test, X_dev, y_dev = get_CIFAR10_data()\n",
    "print(f'Train data shape: {X_train.shape}')\n",
    "print(f'Train labels shape: {y_train.shape}')\n",
    "print(f'Validation data shape: {X_val.shape}')\n",
    "print(f'Validation labels shape: {y_val.shape}')\n",
    "print(f'Test data shape: {X_test.shape}')\n",
    "print(f'Test labels shape: {y_test.shape}')\n",
    "print(f'dev data shape: {X_dev.shape}')\n",
    "print(f'dev labels shape: {y_dev.shape}')"
   ]
  },
  {
   "cell_type": "code",
   "execution_count": 27,
   "metadata": {},
   "outputs": [
    {
     "name": "stdout",
     "output_type": "stream",
     "text": [
      "loss: 2.364594428437469\n",
      "sanity check: 2.3025850929940455\n"
     ]
    }
   ],
   "source": [
    "from classifiers.softmax import softmax_loss_naive\n",
    "import time\n",
    "\n",
    "W = np.random.randn(3073, 10) * 0.0001\n",
    "loss, grad = softmax_loss_naive(W, X_dev, y_dev, 0.0)\n",
    "\n",
    "print(f'loss: {loss}')\n",
    "print(f'sanity check: {-np.log(0.1)}')"
   ]
  },
  {
   "cell_type": "code",
   "execution_count": 28,
   "metadata": {},
   "outputs": [
    {
     "name": "stdout",
     "output_type": "stream",
     "text": [
      "numerical: -2.3178782330379732 analytic: -2.3178782511436498, relative error: 3.905657377688959e-09\n",
      "numerical: -0.2205956330048053 analytic: -0.22059568821127715, relative error: 1.2513045743117198e-07\n",
      "numerical: 0.6966961276555493 analytic: 0.6966962076035381, relative error: 5.737650966041798e-08\n",
      "numerical: -1.0744082530322885 analytic: -1.0744083511788252, relative error: 4.5674692052952633e-08\n",
      "numerical: -1.4176554248734872 analytic: -1.4176553526209998, relative error: 2.5483092682453688e-08\n",
      "numerical: 0.5090584782596608 analytic: 0.50905826337654, relative error: 2.110594119061895e-07\n",
      "numerical: -2.458033952978944 analytic: -2.4580338713893113, relative error: 1.659652302257586e-08\n",
      "numerical: 2.4450178147228385 analytic: 2.445017731703698, relative error: 1.6977205924755413e-08\n",
      "numerical: -1.733720188257237 analytic: -1.733720257943591, relative error: 2.0097347049451745e-08\n",
      "numerical: -0.4120403624296997 analytic: -0.4120404070203994, relative error: 5.410962291713494e-08\n",
      "numerical: 0.9596493801389271 analytic: 0.9596493530554387, relative error: 1.4111137506890569e-08\n",
      "numerical: -0.5425003348991098 analytic: -0.5425004516401247, relative error: 1.0759532750056513e-07\n",
      "numerical: 0.8227547350969643 analytic: 0.8227545683555555, relative error: 1.0133118569522031e-07\n",
      "numerical: 1.1988650478134133 analytic: 1.1988648348293711, relative error: 8.882737114063778e-08\n",
      "numerical: -0.8274845570310773 analytic: -0.8274845977985559, relative error: 2.4633376698396135e-08\n",
      "numerical: 0.529022601636342 analytic: 0.5290227126839655, relative error: 1.0495545137631494e-07\n",
      "numerical: 2.9960287741381815 analytic: 2.9960287085446526, relative error: 1.0946745591192757e-08\n",
      "numerical: -1.529831116631186 analytic: -1.529831181315943, relative error: 2.1141142651459485e-08\n",
      "numerical: 2.190371329358065 analytic: 2.1903711010606184, relative error: 5.21138711876069e-08\n",
      "numerical: 2.1930656570745555 analytic: 2.1930654085209094, relative error: 5.6668084558409013e-08\n"
     ]
    }
   ],
   "source": [
    "from gradient_check import grad_check_sparse\n",
    "f = lambda w: softmax_loss_naive(w, X_dev, y_dev, 0.0)[0]\n",
    "grad_numerical = grad_check_sparse(f, W, grad, 10)\n",
    "\n",
    "# similar to SVM case, do another gradient check with regularization\n",
    "loss, grad = softmax_loss_naive(W, X_dev, y_dev, 1e2)\n",
    "f = lambda w: softmax_loss_naive(w, X_dev, y_dev, 1e2)[0]\n",
    "grad_numerical = grad_check_sparse(f, W, grad, 10)"
   ]
  },
  {
   "cell_type": "code",
   "execution_count": 29,
   "metadata": {},
   "outputs": [
    {
     "name": "stdout",
     "output_type": "stream",
     "text": [
      "naive loss: 2.364594429980531 computed in 0.03637194633483887s\n",
      "vectorized loss: 2.36459442998053 computed in 0.003108978271484375s\n",
      "Loss difference: 8.881784197001252e-16\n",
      "Gradient difference: 2.376990039855451e-13\n"
     ]
    }
   ],
   "source": [
    "tic = time.time()\n",
    "loss_naive, grad_naive = softmax_loss_naive(W, X_dev, y_dev, 0.00001)\n",
    "toc = time.time()\n",
    "print(f'naive loss: {loss_naive} computed in {toc - tic}s')\n",
    "\n",
    "from classifiers.softmax import softmax_loss_vectorized\n",
    "tic = time.time()\n",
    "loss_vectorized, grad_vectorized = softmax_loss_vectorized(W, X_dev, y_dev, 0.00001)\n",
    "toc = time.time()\n",
    "print(f'vectorized loss: {loss_vectorized} computed in {toc - tic}s')\n",
    "\n",
    "grad_difference = np.linalg.norm(grad_naive - grad_vectorized, ord='fro')\n",
    "print(f'Loss difference: {np.abs(loss_naive - loss_vectorized)}')\n",
    "print(f'Gradient difference: {grad_difference}')"
   ]
  },
  {
   "cell_type": "code",
   "execution_count": 30,
   "metadata": {},
   "outputs": [
    {
     "name": "stderr",
     "output_type": "stream",
     "text": [
      "/Users/abhishekmishra/Documents/Courses/CS231n/CS231n_winter2016_py3/classifiers/softmax.py:90: RuntimeWarning: divide by zero encountered in log\n",
      "  loss = np.sum(-np.log(correct_probs))\n",
      "/Users/abhishekmishra/Documents/Courses/CS231n/CS231n_winter2016_py3/classifiers/softmax.py:92: RuntimeWarning: overflow encountered in scalar multiply\n",
      "  loss += 0.5 * reg * np.sum(W * W)\n",
      "/Users/abhishekmishra/anaconda3/envs/cs231n/lib/python3.10/site-packages/numpy/core/fromnumeric.py:88: RuntimeWarning: overflow encountered in reduce\n",
      "  return ufunc.reduce(obj, axis, dtype, out, **passkwargs)\n",
      "/Users/abhishekmishra/Documents/Courses/CS231n/CS231n_winter2016_py3/classifiers/softmax.py:92: RuntimeWarning: overflow encountered in multiply\n",
      "  loss += 0.5 * reg * np.sum(W * W)\n",
      "/Users/abhishekmishra/Documents/Courses/CS231n/CS231n_winter2016_py3/classifiers/softmax.py:99: RuntimeWarning: overflow encountered in multiply\n",
      "  dW += reg * W\n"
     ]
    },
    {
     "name": "stdout",
     "output_type": "stream",
     "text": [
      "lr 1e-07 reg 50000.0 train accuracy 0.3305102040816327 val accuracy 0.339\n",
      "lr 1e-07 reg 100000000.0 train accuracy 0.10026530612244898 val accuracy 0.087\n",
      "lr 5e-07 reg 50000.0 train accuracy 0.3262244897959184 val accuracy 0.347\n",
      "lr 5e-07 reg 100000000.0 train accuracy 0.10026530612244898 val accuracy 0.087\n",
      "best validation accuracy achieved during cross-validation: 0.347\n"
     ]
    }
   ],
   "source": [
    "from classifiers.linear_classifier import Softmax\n",
    "results = {}\n",
    "best_val = -1\n",
    "best_softmax = None\n",
    "learning_rates = [1e-7, 5e-7]\n",
    "regularization_strengths = [5e4, 1e8]\n",
    "for lr in learning_rates:\n",
    "    for reg in regularization_strengths:\n",
    "        softmax = Softmax()\n",
    "        loss_hist = softmax.train(X_train, y_train, learning_rate=lr, reg=reg,\n",
    "                                  num_iters=1500)\n",
    "        y_train_pred = softmax.predict(X_train)\n",
    "        train_acc = np.mean(y_train == y_train_pred)\n",
    "        y_val_pred = softmax.predict(X_val)\n",
    "        val_acc = np.mean(y_val == y_val_pred)\n",
    "        results[(lr, reg)] = (train_acc, val_acc)\n",
    "        if val_acc > best_val:\n",
    "            best_val = val_acc\n",
    "            best_softmax = softmax\n",
    "\n",
    "for lr, reg in sorted(results):\n",
    "    train_accuracy, val_accuracy = results[(lr, reg)]\n",
    "    print(f'lr {lr} reg {reg} train accuracy {train_accuracy} val accuracy {val_accuracy}')\n",
    "\n",
    "print(f'best validation accuracy achieved during cross-validation: {best_val}')\n",
    "\n",
    "\n"
   ]
  },
  {
   "cell_type": "code",
   "execution_count": 31,
   "metadata": {},
   "outputs": [
    {
     "data": {
      "image/png": "[encoded data removed]",
      "text/plain": [
       "<Figure size 1000x800 with 4 Axes>"
      ]
     },
     "metadata": {},
     "output_type": "display_data"
    }
   ],
   "source": [
    "import math\n",
    "x_scatter = [math.log10(x[0]) for x in results]\n",
    "y_scatter = [math.log10(x[1]) for x in results]\n",
    "\n",
    "marker_size = 100\n",
    "colors = [results[x][0] for x in results]\n",
    "\n",
    "plt.subplot(2,1,1)\n",
    "plt.scatter(x_scatter, y_scatter, marker_size, c=colors)\n",
    "plt.colorbar()\n",
    "plt.xlabel('log learning rate')\n",
    "plt.ylabel('log regularization strength')\n",
    "plt.title('CIFAR-10 training accuracy')\n",
    "\n",
    "colors = [results[x][1] for x in results]\n",
    "plt.subplot(2,1,2)\n",
    "plt.scatter(x_scatter, y_scatter, marker_size, c=colors)\n",
    "plt.colorbar()\n",
    "plt.xlabel('log learning rate')\n",
    "plt.ylabel('log regularization strength')\n",
    "plt.title('CIFAR-10 validation accuracy')\n",
    "plt.show()"
   ]
  },
  {
   "cell_type": "code",
   "execution_count": 33,
   "metadata": {},
   "outputs": [
    {
     "name": "stdout",
     "output_type": "stream",
     "text": [
      "linear SVM on raw pixels final test set accuracy 0.343\n"
     ]
    }
   ],
   "source": [
    "y_test_pred = best_softmax.predict(X_test)\n",
    "test_accuracy = np.mean(y_test == y_test_pred)\n",
    "print(f'linear SVM on raw pixels final test set accuracy {test_accuracy}')"
   ]
  },
  {
   "cell_type": "code",
   "execution_count": 35,
   "metadata": {},
   "outputs": [
    {
     "data": {
      "image/png": "[encoded data removed]",
      "text/plain": [
       "<Figure size 1000x800 with 10 Axes>"
      ]
     },
     "metadata": {},
     "output_type": "display_data"
    }
   ],
   "source": [
    "w = best_softmax.W[:-1,:]\n",
    "w = w.reshape(32, 32, 3, 10)\n",
    "w_min, w_max = np.min(w), np.max(w)\n",
    "classes = ['plane', 'car', 'bird', 'cat', 'deer', 'dog', 'frog', 'horse', 'ship', 'truck']\n",
    "for i in range(10):\n",
    "    plt.subplot(2, 5, i+1)\n",
    "\n",
    "    wimg = 255.0 * (w[:, :, :, i].squeeze() - w_min) / (w_max - w_min)\n",
    "    plt.imshow(wimg.astype('uint8'))\n",
    "    plt.axis('off')\n",
    "    plt.title(classes[i])"
   ]
  },
  {
   "cell_type": "code",
   "execution_count": null,
   "metadata": {},
   "outputs": [],
   "source": []
  },
  {
   "cell_type": "code",
   "execution_count": 12,
   "metadata": {},
   "outputs": [
    {
     "data": {
      "text/plain": [
       "((3073, 10), (3073, 10), (500, 3073), (500,), 0.0)"
      ]
     },
     "execution_count": 12,
     "metadata": {},
     "output_type": "execute_result"
    }
   ],
   "source": [
    "W = np.random.randn(3073, 10) * 0.0001\n",
    "dW = np.zeros_like(W)\n",
    "X = X_dev\n",
    "y = y_dev\n",
    "reg = 0.0\n",
    "loss = 0.0\n",
    "W.shape, dW.shape, X.shape, y.shape, reg\n"
   ]
  },
  {
   "cell_type": "code",
   "execution_count": 13,
   "metadata": {},
   "outputs": [],
   "source": [
    "scores = X @ W\n",
    "scores_exp = np.exp(scores)\n",
    "scores_exp_sum = np.sum(scores_exp, axis=1, keepdims=True)\n",
    "probs = scores_exp / scores_exp_sum\n",
    "logits = np.log(probs)\n",
    "neg_log_likelihood = np.array([-logits[j, ix] for j, ix in enumerate(y)])\n",
    "loss = np.mean(neg_log_likelihood)"
   ]
  },
  {
   "cell_type": "code",
   "execution_count": 15,
   "metadata": {},
   "outputs": [
    {
     "data": {
      "text/plain": [
       "((500, 10), (500,))"
      ]
     },
     "execution_count": 15,
     "metadata": {},
     "output_type": "execute_result"
    }
   ],
   "source": [
    "probs.shape, y.shape"
   ]
  },
  {
   "cell_type": "code",
   "execution_count": 16,
   "metadata": {},
   "outputs": [],
   "source": [
    "probs_modified = np.copy(probs)\n",
    "probs_modified[(np.arange(X.shape[0]), y)] -= 1"
   ]
  },
  {
   "cell_type": "code",
   "execution_count": 17,
   "metadata": {},
   "outputs": [
    {
     "data": {
      "text/plain": [
       "array([[ 0.05456253,  0.09991456,  0.14727921, ...,  0.05295993,\n",
       "         0.11782037, -0.92403343],\n",
       "       [ 0.07377477,  0.11881139,  0.08734791, ...,  0.16597461,\n",
       "        -0.93636719,  0.08845061],\n",
       "       [ 0.06436092,  0.09035487,  0.11227243, ...,  0.09643984,\n",
       "         0.09268782,  0.10520632],\n",
       "       ...,\n",
       "       [ 0.06752371,  0.09233867,  0.0926729 , ...,  0.1016236 ,\n",
       "        -0.8173338 ,  0.09169354],\n",
       "       [ 0.06653315,  0.09669545,  0.07207643, ...,  0.098208  ,\n",
       "         0.1115401 ,  0.07550665],\n",
       "       [ 0.13588322,  0.08260253,  0.09913895, ...,  0.08206087,\n",
       "         0.04785059,  0.12005497]])"
      ]
     },
     "execution_count": 17,
     "metadata": {},
     "output_type": "execute_result"
    }
   ],
   "source": [
    "probs_modified"
   ]
  },
  {
   "cell_type": "code",
   "execution_count": 46,
   "metadata": {},
   "outputs": [
    {
     "data": {
      "text/plain": [
       "2.3936261623926063"
      ]
     },
     "execution_count": 46,
     "metadata": {},
     "output_type": "execute_result"
    }
   ],
   "source": [
    "loss"
   ]
  },
  {
   "cell_type": "code",
   "execution_count": 43,
   "metadata": {},
   "outputs": [
    {
     "data": {
      "text/plain": [
       "(1.4087973520628199, 3.3835804863571703)"
      ]
     },
     "execution_count": 43,
     "metadata": {},
     "output_type": "execute_result"
    }
   ],
   "source": [
    "np.min(neg_log_likelihood), np.max(neg_log_likelihood)"
   ]
  },
  {
   "cell_type": "code",
   "execution_count": 44,
   "metadata": {},
   "outputs": [
    {
     "data": {
      "text/plain": [
       "(500,)"
      ]
     },
     "execution_count": 44,
     "metadata": {},
     "output_type": "execute_result"
    }
   ],
   "source": [
    "neg_log_likelihood.shape"
   ]
  },
  {
   "cell_type": "code",
   "execution_count": 38,
   "metadata": {},
   "outputs": [
    {
     "data": {
      "text/plain": [
       "((500, 10), (500, 10), (500, 1), (500, 10), (500, 10))"
      ]
     },
     "execution_count": 38,
     "metadata": {},
     "output_type": "execute_result"
    }
   ],
   "source": [
    "scores.shape, scores_exp.shape, scores_exp_sum.shape, probs.shape, logits.shape"
   ]
  },
  {
   "cell_type": "code",
   "execution_count": 34,
   "metadata": {},
   "outputs": [
    {
     "data": {
      "text/plain": [
       "array([-0.21842301,  0.25445247,  0.00663754,  0.13118509,  0.60048141,\n",
       "        0.57362847,  0.05328411,  0.74267657,  0.35342989, -0.32122771,\n",
       "        0.09331664,  0.23712906, -0.51312383, -0.5066684 , -0.0113677 ,\n",
       "        0.03505479, -0.07842942,  0.43026046, -0.25426519,  0.28248915,\n",
       "        0.21280678,  0.63963468,  0.57299422,  0.3780496 ,  0.35501605,\n",
       "        0.07272124,  0.23906454, -0.1460519 ,  0.23825891, -0.15365037,\n",
       "        0.11855421,  0.04300214, -0.33776471,  0.23579276, -0.19320663,\n",
       "       -0.36613024,  0.03671847,  0.41466559,  0.41409344, -0.24512286,\n",
       "        0.08548299,  0.65693476,  0.15275922,  0.01713354,  0.22739763,\n",
       "        0.19851651, -0.28482269, -0.09901684, -0.12078433,  0.30754718,\n",
       "        0.37711528,  0.33452754, -0.44453708,  0.7388792 ,  0.24185872,\n",
       "       -0.07886372,  0.22753729,  0.17441156, -0.2474662 , -0.01317733,\n",
       "       -0.60713541, -0.1237211 ,  0.12279482,  0.07326189, -0.00883999,\n",
       "       -0.37758596,  0.19849227,  0.10315358,  0.75757367,  0.16619084,\n",
       "       -0.16590601,  0.0651223 ,  0.05601882,  0.5586507 , -0.00425999,\n",
       "       -0.2365805 ,  0.17348683,  0.02691234, -0.50992426,  0.37076183,\n",
       "        0.04374435, -0.32939192,  0.33757085,  0.55589136,  0.29737741,\n",
       "       -0.36648549, -0.16586352,  0.44239526, -0.37761706,  0.22315839,\n",
       "        0.21742274, -0.87180739,  0.17915056, -0.25270796,  0.49441357,\n",
       "       -0.06477984, -0.28718341,  0.11594396,  0.44457767, -0.05899693,\n",
       "       -0.7076378 ,  0.7563416 , -0.4506016 ,  0.26865282,  0.1183027 ,\n",
       "       -0.47174346, -0.06206698, -1.05915451, -0.03659503,  0.06078332,\n",
       "        0.22661522,  0.18124417,  0.14591716,  0.20289429, -0.09809356,\n",
       "       -0.25888248, -0.1260098 ,  0.27263499, -0.39215205, -0.35952547,\n",
       "        0.13577829, -0.28416573,  0.80308793,  0.07807339,  0.08747987,\n",
       "       -0.0385271 , -0.56100341,  0.45760172,  0.134551  , -0.56001321,\n",
       "       -0.41944103, -0.15741613,  0.03773439, -0.14195694,  0.17412091,\n",
       "        0.24064451, -0.31110756,  0.36344605, -0.47787306, -0.15505545,\n",
       "        0.32326485,  0.88851604, -0.33949851,  0.23800081, -0.10285024,\n",
       "       -0.05500736,  0.28524569, -0.63588038, -0.36754301,  0.16415059,\n",
       "       -0.01703814,  0.28814377, -0.39507918,  0.09216903,  0.06854642,\n",
       "       -0.47017521, -0.16562172, -0.45448396,  0.23964472, -0.20089203,\n",
       "        0.99305302,  0.6117198 ,  0.18227404, -0.52400631, -0.13322478,\n",
       "       -0.38258872,  0.07628197, -0.12633907, -0.01438617,  0.23617934,\n",
       "        0.73755366,  0.33693134,  0.33604463,  0.61245034,  0.11102503,\n",
       "       -0.29854685,  0.50086059,  0.38603738,  0.29800231,  0.76966835,\n",
       "        0.1096211 , -0.06863766,  0.09506979,  0.20287471, -0.59771768,\n",
       "       -0.1359745 , -0.00188943,  0.5193337 , -0.00539214,  0.20740294,\n",
       "        0.43348857,  0.24770155, -0.06677712, -0.38032556,  0.37548223,\n",
       "       -0.01246354,  0.48164575,  0.27311896,  0.48343758, -0.28853979,\n",
       "       -0.1684384 ,  0.21537953,  0.39023226, -0.12249793, -0.09207231,\n",
       "        0.25946882,  0.08740123, -0.70715471,  0.4919784 ,  0.14936351,\n",
       "       -0.00878029,  0.24776936,  0.04584136, -0.4385622 ,  0.32765105,\n",
       "        0.23388606,  0.21878834, -0.00824011,  0.14262168, -0.67803161,\n",
       "       -0.04015288, -0.44917361, -0.65130578, -0.47677053,  0.09213923,\n",
       "        0.32485856,  0.063595  , -0.28262036,  0.32502223,  0.21141715,\n",
       "        0.24252243, -0.60684493,  0.22413173, -0.06443481,  0.26621837,\n",
       "       -0.32583048, -0.35642674, -0.45499942, -0.22233018,  0.03609693,\n",
       "       -0.49418005,  0.80003291,  0.12167408, -0.10438807, -0.56946793,\n",
       "       -0.22461482, -0.44778911, -0.05708414, -0.18956345, -0.36867293,\n",
       "        0.07456442,  0.10637757,  0.0482866 , -0.09538222,  0.05340961,\n",
       "        0.06800546,  0.06501643,  0.08153045,  0.49395486, -0.26970586,\n",
       "       -0.29667876, -0.46987612, -0.42195843,  0.23642668, -0.34307654,\n",
       "        0.40610405,  0.32992964, -0.09700711,  0.20074089,  0.00164078,\n",
       "       -0.20392331, -0.16075186, -0.52496016, -0.56043051,  0.47799466,\n",
       "        0.20011141,  0.03676556, -0.25246751,  0.374398  ,  0.82635702,\n",
       "        0.58495526,  0.15452421, -0.09595585, -0.11666373,  0.28252232,\n",
       "        0.11018132, -0.09943399, -0.26761453, -0.11350957,  0.48025864,\n",
       "       -0.24880387,  0.05943311,  0.51523153,  0.78189401, -0.18972832,\n",
       "        0.21978268,  0.05670834, -0.16566001,  0.44813405,  0.00585722,\n",
       "        0.13543306, -0.12004254, -0.58108701,  0.15476229, -0.18915942,\n",
       "        0.15629175, -0.12770201,  0.13552676, -0.01506552,  0.621651  ,\n",
       "       -0.13733497,  0.09257004, -0.40908961,  0.24080404,  0.09701752,\n",
       "       -0.62293068, -0.09845393,  0.23706002, -0.04574335,  0.65059646,\n",
       "        0.40688056,  0.60632515,  0.12528853,  0.32289031,  0.29032896,\n",
       "       -0.00374738,  0.21656391, -0.06667812, -0.44984485, -0.00741625,\n",
       "        0.16065104,  0.16177616,  0.11436134,  0.27884871, -0.20544276,\n",
       "        0.51539366, -0.13583283, -0.18975367,  0.15123289,  0.06930059,\n",
       "        0.55085593,  0.14071267, -0.26277242,  0.1497914 , -0.20048981,\n",
       "       -0.05131214, -0.12211077, -0.32138455,  0.03678562, -0.16734576,\n",
       "       -0.16369618, -0.1102006 , -0.04522748,  0.20649344,  0.25355773,\n",
       "       -0.15168401,  0.43879874,  0.45577612, -0.00571342, -0.13158328,\n",
       "        0.76275535, -0.3595302 , -0.76581277, -0.42075915, -0.0431515 ,\n",
       "        0.07940009,  0.36998722,  0.37532796, -0.3194662 , -0.52331819,\n",
       "        0.14529755, -0.17745344,  0.51495973,  1.32815701,  1.00053759,\n",
       "        0.19088053, -0.23539826,  0.48060695,  0.01191205,  0.38303981,\n",
       "        0.48446308,  0.38671501,  0.59591879,  0.14889951,  0.55674854,\n",
       "       -0.37918204,  0.06501524, -0.09595441, -0.26740089, -0.26229623,\n",
       "       -0.5610134 ,  0.19745019, -0.1322315 ,  0.32041441,  0.51872958,\n",
       "       -0.36412824, -0.02414135,  0.66508659,  0.33574849,  0.27790342,\n",
       "        0.10364887, -0.11863485,  0.13396502,  0.27645684,  0.57643792,\n",
       "        0.35823306,  0.40859451, -0.45532989,  0.28995213,  0.25657026,\n",
       "       -0.40895036,  0.13503191, -0.7911026 ,  0.05218309, -0.25449356,\n",
       "        0.18469165, -0.08395714, -0.56344376,  0.02839963, -0.61165247,\n",
       "       -0.29119515, -0.49970076,  0.50996686,  0.62966414,  0.07483844,\n",
       "        0.69611363, -0.25205538,  0.03655043, -0.07823489,  0.35697377,\n",
       "        0.36897179,  0.1314916 ,  0.2438443 , -0.25729571,  0.44382696,\n",
       "        0.39094476, -0.78050898,  0.09437578,  0.42627989,  0.52115559,\n",
       "       -0.29173489, -0.30202203, -0.33943915,  0.13198879,  0.28784487,\n",
       "        0.35743136,  0.10368354, -0.34319083,  0.23523961,  0.54359441,\n",
       "        0.00466552, -0.35376241, -0.23070549, -0.07978341,  0.48767156,\n",
       "        0.09512255, -0.88486841, -0.25318198,  0.02537081, -0.10479592,\n",
       "        0.20784623,  0.01987256, -0.13482449,  0.18669161, -0.56376459,\n",
       "       -0.41625215, -0.67251221,  0.80469303,  0.01909126, -0.09849764,\n",
       "       -0.33886163, -0.24948769,  0.36148975,  0.11417148, -0.64897236,\n",
       "       -0.24124426,  0.36415749, -0.07899759,  0.03628251, -0.28838913,\n",
       "        0.1323006 ,  0.02383024,  0.1045232 ,  0.02150703,  0.42916474,\n",
       "        0.25364413, -0.02967689, -0.16732102, -0.82895368, -0.08760277,\n",
       "       -0.10322122,  0.08307782,  0.06793402,  0.33801804,  0.11557293,\n",
       "       -0.0396183 , -0.04051287,  0.06790555,  0.0694605 ,  0.46227745])"
      ]
     },
     "execution_count": 34,
     "metadata": {},
     "output_type": "execute_result"
    }
   ],
   "source": [
    "np.array([-scores[j , ix] for j, ix in enumerate(y)])"
   ]
  },
  {
   "cell_type": "code",
   "execution_count": 23,
   "metadata": {},
   "outputs": [
    {
     "data": {
      "text/plain": [
       "array([7, 2, 6, 4, 7, 1, 1, 8, 8, 9, 6, 8, 3, 8, 3, 9, 7, 9, 9, 4, 5, 5,\n",
       "       4, 2, 1, 5, 2, 7, 3, 4, 3, 5, 6, 5, 5, 2, 0, 7, 4, 7, 4, 0, 8, 9,\n",
       "       8, 6, 4, 1, 1, 9, 5, 9, 3, 1, 9, 8, 6, 0, 7, 9, 2, 6, 1, 1, 8, 7,\n",
       "       1, 0, 2, 6, 0, 9, 7, 3, 3, 8, 5, 2, 2, 5, 6, 3, 5, 5, 1, 2, 7, 5,\n",
       "       5, 4, 0, 4, 3, 3, 5, 5, 4, 3, 2, 8, 2, 4, 0, 5, 7, 7, 4, 4, 8, 3,\n",
       "       5, 6, 3, 3, 3, 6, 4, 7, 8, 0, 3, 9, 5, 9, 7, 7, 2, 6, 2, 1, 2, 1,\n",
       "       4, 9, 6, 3, 1, 7, 3, 3, 9, 3, 7, 1, 4, 1, 9, 2, 2, 5, 7, 8, 4, 3,\n",
       "       7, 0, 2, 9, 5, 8, 5, 8, 5, 8, 1, 7, 9, 0, 5, 7, 9, 6, 0, 2, 5, 1,\n",
       "       5, 7, 0, 2, 1, 5, 5, 5, 1, 0, 3, 4, 1, 6, 4, 8, 6, 9, 8, 0, 6, 7,\n",
       "       5, 4, 4, 9, 0, 3, 9, 8, 2, 9, 9, 3, 8, 1, 6, 2, 5, 0, 5, 9, 4, 4,\n",
       "       2, 2, 0, 8, 0, 3, 5, 1, 4, 6, 1, 4, 1, 7, 2, 9, 1, 4, 5, 2, 0, 9,\n",
       "       5, 3, 2, 7, 7, 1, 8, 2, 5, 7, 5, 7, 4, 6, 5, 5, 2, 1, 7, 7, 7, 1,\n",
       "       4, 0, 8, 5, 5, 5, 7, 6, 4, 9, 0, 3, 9, 2, 5, 5, 9, 6, 8, 4, 4, 6,\n",
       "       9, 2, 3, 1, 2, 9, 6, 2, 8, 5, 8, 7, 8, 8, 2, 4, 2, 9, 9, 4, 9, 9,\n",
       "       6, 8, 7, 9, 7, 7, 0, 3, 3, 3, 8, 2, 5, 5, 7, 5, 8, 6, 1, 9, 0, 5,\n",
       "       7, 6, 1, 0, 1, 3, 7, 7, 8, 0, 7, 1, 9, 1, 8, 4, 1, 8, 9, 9, 1, 3,\n",
       "       4, 8, 5, 1, 1, 0, 6, 7, 5, 7, 0, 4, 8, 3, 2, 6, 9, 9, 6, 5, 5, 2,\n",
       "       2, 5, 6, 4, 6, 7, 2, 0, 0, 8, 0, 0, 4, 7, 7, 1, 7, 1, 2, 1, 5, 4,\n",
       "       4, 2, 0, 6, 7, 9, 5, 3, 7, 3, 0, 3, 1, 6, 8, 6, 8, 0, 2, 7, 8, 2,\n",
       "       2, 3, 9, 4, 2, 1, 8, 0, 4, 7, 4, 6, 5, 9, 7, 3, 6, 1, 1, 5, 0, 7,\n",
       "       7, 3, 1, 7, 5, 6, 5, 7, 7, 7, 4, 7, 6, 1, 0, 6, 2, 1, 1, 1, 5, 6,\n",
       "       2, 5, 7, 4, 5, 1, 1, 7, 1, 0, 1, 9, 4, 8, 0, 6, 0, 8, 7, 8, 0, 6,\n",
       "       5, 0, 8, 5, 6, 8, 0, 9, 1, 4, 6, 3, 1, 3, 3, 1])"
      ]
     },
     "execution_count": 23,
     "metadata": {},
     "output_type": "execute_result"
    }
   ],
   "source": [
    "y"
   ]
  },
  {
   "cell_type": "code",
   "execution_count": 18,
   "metadata": {},
   "outputs": [
    {
     "data": {
      "text/plain": [
       "((500, 10), (500, 10), (500, 1), (500, 10))"
      ]
     },
     "execution_count": 18,
     "metadata": {},
     "output_type": "execute_result"
    }
   ],
   "source": [
    "scores.shape, log_prob.shape, log_prob_sum.shape, logits.shape"
   ]
  },
  {
   "cell_type": "code",
   "execution_count": 22,
   "metadata": {},
   "outputs": [
    {
     "data": {
      "text/plain": [
       "array([50.63093888, 50.47916544, 51.57684415, 49.14396521, 52.1148448 ,\n",
       "       48.6406907 , 50.31025324, 48.60788482, 49.26875886, 49.22665391])"
      ]
     },
     "execution_count": 22,
     "metadata": {},
     "output_type": "execute_result"
    }
   ],
   "source": [
    "logits.sum(0)"
   ]
  },
  {
   "cell_type": "code",
   "execution_count": null,
   "metadata": {},
   "outputs": [],
   "source": [
    "scores_sum = n"
   ]
  },
  {
   "cell_type": "code",
   "execution_count": 5,
   "metadata": {},
   "outputs": [
    {
     "data": {
      "text/plain": [
       "array([[1, 1, 0, 0],\n",
       "       [1, 2, 0, 2],\n",
       "       [1, 2, 0, 2]])"
      ]
     },
     "execution_count": 5,
     "metadata": {},
     "output_type": "execute_result"
    }
   ],
   "source": [
    "a = np.random.randint(0, 3, (3,4))\n",
    "a"
   ]
  },
  {
   "cell_type": "code",
   "execution_count": 28,
   "metadata": {},
   "outputs": [
    {
     "data": {
      "text/plain": [
       "[0, 2, 2]"
      ]
     },
     "execution_count": 28,
     "metadata": {},
     "output_type": "execute_result"
    }
   ],
   "source": [
    "i = [2, 3, 3]\n",
    "[a[j, ix] for j, ix in enumerate(i)]"
   ]
  },
  {
   "cell_type": "code",
   "execution_count": 30,
   "metadata": {},
   "outputs": [
    {
     "data": {
      "text/plain": [
       "array([[0, 0, 0],\n",
       "       [0, 2, 2],\n",
       "       [0, 2, 2]])"
      ]
     },
     "execution_count": 30,
     "metadata": {},
     "output_type": "execute_result"
    }
   ],
   "source": [
    "a[:, i]"
   ]
  },
  {
   "cell_type": "code",
   "execution_count": 27,
   "metadata": {},
   "outputs": [
    {
     "data": {
      "text/plain": [
       "2"
      ]
     },
     "execution_count": 27,
     "metadata": {},
     "output_type": "execute_result"
    }
   ],
   "source": [
    "a[2, 3]"
   ]
  },
  {
   "cell_type": "code",
   "execution_count": 12,
   "metadata": {},
   "outputs": [
    {
     "data": {
      "text/plain": [
       "array([[2],\n",
       "       [5],\n",
       "       [5]])"
      ]
     },
     "execution_count": 12,
     "metadata": {},
     "output_type": "execute_result"
    }
   ],
   "source": [
    "a_sum = np.sum(a, axis = 1, keepdims=True)\n",
    "a_sum"
   ]
  },
  {
   "cell_type": "code",
   "execution_count": 13,
   "metadata": {},
   "outputs": [
    {
     "data": {
      "text/plain": [
       "((3, 4), (3, 1))"
      ]
     },
     "execution_count": 13,
     "metadata": {},
     "output_type": "execute_result"
    }
   ],
   "source": [
    "a.shape, a_sum.shape"
   ]
  },
  {
   "cell_type": "code",
   "execution_count": 14,
   "metadata": {},
   "outputs": [
    {
     "data": {
      "text/plain": [
       "array([[0.5, 0.5, 0. , 0. ],\n",
       "       [0.2, 0.4, 0. , 0.4],\n",
       "       [0.2, 0.4, 0. , 0.4]])"
      ]
     },
     "execution_count": 14,
     "metadata": {},
     "output_type": "execute_result"
    }
   ],
   "source": [
    "a / a_sum"
   ]
  },
  {
   "cell_type": "code",
   "execution_count": null,
   "metadata": {},
   "outputs": [],
   "source": []
  }
 ],
 "metadata": {
  "kernelspec": {
   "display_name": "cs231n",
   "language": "python",
   "name": "python3"
  },
  "language_info": {
   "codemirror_mode": {
    "name": "ipython",
    "version": 3
   },
   "file_extension": ".py",
   "mimetype": "text/x-python",
   "name": "python",
   "nbconvert_exporter": "python",
   "pygments_lexer": "ipython3",
   "version": "3.10.11"
  },
  "orig_nbformat": 4
 },
 "nbformat": 4,
 "nbformat_minor": 2
}
